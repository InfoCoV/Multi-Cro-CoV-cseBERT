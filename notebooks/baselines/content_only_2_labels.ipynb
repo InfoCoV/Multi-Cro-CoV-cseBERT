{
 "cells": [
  {
   "cell_type": "markdown",
   "metadata": {},
   "source": [
    "# Baseline training on content vector data"
   ]
  },
  {
   "cell_type": "code",
   "execution_count": 1,
   "metadata": {},
   "outputs": [],
   "source": [
    "import numpy as np\n",
    "import pandas as pd\n",
    "\n",
    "import seaborn as sns\n",
    "from seaborn import countplot\n",
    "\n",
    "from sklearn.ensemble import RandomForestClassifier\n",
    "from sklearn.dummy import DummyClassifier\n",
    "from sklearn.metrics import classification_report\n",
    "from sklearn.neural_network import MLPClassifier\n",
    "from sklearn.preprocessing import StandardScaler\n",
    "from sklearn.preprocessing import RobustScaler"
   ]
  },
  {
   "cell_type": "markdown",
   "metadata": {},
   "source": [
    "# Data loading"
   ]
  },
  {
   "cell_type": "code",
   "execution_count": 2,
   "metadata": {},
   "outputs": [],
   "source": [
    "# Data paths\n",
    "CONTENT_VECS = \"../../data/intermediary/bert_vecs.npy\"\n",
    "DATA = \"../../data/original/Org-Retweeted-Vectors_preproc.csv\"\n",
    "\n",
    "TRAIN = \"../../data/intermediary/data_split/train_id_str.txt\"\n",
    "VAL = \"../../data/intermediary/data_split/val_id_str.txt\"\n",
    "TEST = \"../../data/intermediary/data_split/test_id_str.txt\""
   ]
  },
  {
   "cell_type": "code",
   "execution_count": 3,
   "metadata": {},
   "outputs": [],
   "source": [
    "with open(CONTENT_VECS, \"rb\") as f:\n",
    "    vecs = np.load(f)"
   ]
  },
  {
   "cell_type": "code",
   "execution_count": 4,
   "metadata": {},
   "outputs": [
    {
     "data": {
      "text/plain": [
       "(214670, 768)"
      ]
     },
     "execution_count": 4,
     "metadata": {},
     "output_type": "execute_result"
    }
   ],
   "source": [
    "vecs.shape"
   ]
  },
  {
   "cell_type": "code",
   "execution_count": 5,
   "metadata": {},
   "outputs": [
    {
     "name": "stdout",
     "output_type": "stream",
     "text": [
      "<class 'pandas.core.frame.DataFrame'>\n",
      "RangeIndex: 214670 entries, 0 to 214669\n",
      "Data columns (total 59 columns):\n",
      " #   Column                                Non-Null Count   Dtype              \n",
      "---  ------                                --------------   -----              \n",
      " 0   id_str                                214670 non-null  int64              \n",
      " 1   created_at                            214670 non-null  datetime64[ns, UTC]\n",
      " 2   full_text                             214670 non-null  object             \n",
      " 3   retweet_count                         214670 non-null  float64            \n",
      " 4   favorite_count                        214670 non-null  float64            \n",
      " 5   entities.hashtags                     214670 non-null  object             \n",
      " 6   entities.urls                         214670 non-null  bool               \n",
      " 7   entities.media                        214670 non-null  bool               \n",
      " 8   user_id_str                           214670 non-null  int64              \n",
      " 9   user.screen_name                      214670 non-null  object             \n",
      " 10  user.followers_count                  214334 non-null  float64            \n",
      " 11  user.friends_count                    214334 non-null  float64            \n",
      " 12  user.statuses_count                   214334 non-null  float64            \n",
      " 13  user_in_net                           214670 non-null  bool               \n",
      " 14  covid_keywords                        214670 non-null  object             \n",
      " 15  has_covid_keyword                     214670 non-null  bool               \n",
      " 16  mentioned_users_ids                   214670 non-null  object             \n",
      " 17  mentioned_users_usernames             214670 non-null  object             \n",
      " 18  number_of_mentioned_users             214670 non-null  int64              \n",
      " 19  number_of_hashtags                    214670 non-null  int64              \n",
      " 20  tweets_keywords_3_in_degree           199431 non-null  float64            \n",
      " 21  tweets_keywords_3_out_degree          199431 non-null  float64            \n",
      " 22  tweets_keywords_3_in_strength         199431 non-null  float64            \n",
      " 23  tweets_keywords_3_out_strength        199431 non-null  float64            \n",
      " 24  tweets_keywords_3_eigenvector_in      199431 non-null  float64            \n",
      " 25  tweets_keywords_3_eigenvector_out     199431 non-null  float64            \n",
      " 26  tweets_keywords_3_katz_in             199431 non-null  float64            \n",
      " 27  tweets_keywords_3_katz_out            199431 non-null  float64            \n",
      " 28  tweets_keywords_3_clustering          199431 non-null  float64            \n",
      " 29  tweets_keywords_3_louvian_class       199431 non-null  float64            \n",
      " 30  users_mention_in_degree               53588 non-null   float64            \n",
      " 31  users_mention_out_degree              53588 non-null   float64            \n",
      " 32  users_mention_in_strength             53588 non-null   float64            \n",
      " 33  users_mention_out_strength            53588 non-null   float64            \n",
      " 34  users_mention_eigenvector_in          53588 non-null   float64            \n",
      " 35  users_mention_eigenvector_out         53588 non-null   float64            \n",
      " 36  users_mention_katz_in                 53588 non-null   float64            \n",
      " 37  users_mention_katz_out                53588 non-null   float64            \n",
      " 38  users_mention_clustering              53588 non-null   float64            \n",
      " 39  folowing_users_graph_in_degree        162464 non-null  float64            \n",
      " 40  folowing_users_graph_out_degree       162464 non-null  float64            \n",
      " 41  folowing_users_graph_in_strength      162464 non-null  float64            \n",
      " 42  folowing_users_graph_out_strength     162464 non-null  float64            \n",
      " 43  folowing_users_graph_eigenvector_in   162464 non-null  float64            \n",
      " 44  folowing_users_graph_eigenvector_out  162464 non-null  float64            \n",
      " 45  folowing_users_graph_katz_in          162464 non-null  float64            \n",
      " 46  folowing_users_graph_katz_out         162464 non-null  float64            \n",
      " 47  folowing_users_graph_clustering       162464 non-null  float64            \n",
      " 48  folowing_users_graph_louvian_class    162464 non-null  float64            \n",
      " 49  users_reply_in_degree                 146945 non-null  float64            \n",
      " 50  users_reply_out_degree                146945 non-null  float64            \n",
      " 51  users_reply_in_strength               146945 non-null  float64            \n",
      " 52  users_reply_out_strength              146945 non-null  float64            \n",
      " 53  users_reply_eigenvector_in            146945 non-null  float64            \n",
      " 54  users_reply_eigenvector_out           146945 non-null  float64            \n",
      " 55  users_reply_katz_in                   146945 non-null  float64            \n",
      " 56  users_reply_katz_out                  146945 non-null  float64            \n",
      " 57  users_reply_clustering                146945 non-null  float64            \n",
      " 58  users_reply_louvian_class             146945 non-null  float64            \n",
      "dtypes: bool(4), datetime64[ns, UTC](1), float64(44), int64(4), object(6)\n",
      "memory usage: 90.9+ MB\n"
     ]
    }
   ],
   "source": [
    "data = pd.read_csv(DATA, parse_dates=[\"created_at\"]).iloc[:, 1:]\n",
    "data.info()"
   ]
  },
  {
   "cell_type": "code",
   "execution_count": 6,
   "metadata": {},
   "outputs": [
    {
     "data": {
      "text/plain": [
       "159544"
      ]
     },
     "execution_count": 6,
     "metadata": {},
     "output_type": "execute_result"
    }
   ],
   "source": [
    "with open(TRAIN) as f:\n",
    "    train_ids = f.read().splitlines()\n",
    "len(train_ids)"
   ]
  },
  {
   "cell_type": "code",
   "execution_count": 7,
   "metadata": {},
   "outputs": [
    {
     "data": {
      "text/plain": [
       "19943"
      ]
     },
     "execution_count": 7,
     "metadata": {},
     "output_type": "execute_result"
    }
   ],
   "source": [
    "with open(VAL) as f:\n",
    "    val_ids = f.read().splitlines()\n",
    "len(val_ids)"
   ]
  },
  {
   "cell_type": "code",
   "execution_count": 8,
   "metadata": {},
   "outputs": [
    {
     "data": {
      "text/plain": [
       "19944"
      ]
     },
     "execution_count": 8,
     "metadata": {},
     "output_type": "execute_result"
    }
   ],
   "source": [
    "with open(TEST) as f:\n",
    "    test_ids = f.read().splitlines()\n",
    "len(test_ids)"
   ]
  },
  {
   "cell_type": "markdown",
   "metadata": {},
   "source": [
    "# Prepare training and validation vectors"
   ]
  },
  {
   "cell_type": "code",
   "execution_count": 9,
   "metadata": {},
   "outputs": [],
   "source": [
    "data = data.astype({\"id_str\": str})"
   ]
  },
  {
   "cell_type": "code",
   "execution_count": 10,
   "metadata": {},
   "outputs": [
    {
     "data": {
      "text/plain": [
       "159544"
      ]
     },
     "execution_count": 10,
     "metadata": {},
     "output_type": "execute_result"
    }
   ],
   "source": [
    "data_train = data[data.id_str.isin(train_ids)]\n",
    "len(data_train)"
   ]
  },
  {
   "cell_type": "code",
   "execution_count": 11,
   "metadata": {},
   "outputs": [
    {
     "data": {
      "text/plain": [
       "19943"
      ]
     },
     "execution_count": 11,
     "metadata": {},
     "output_type": "execute_result"
    }
   ],
   "source": [
    "data_val = data[data.id_str.isin(val_ids)]\n",
    "len(data_val)"
   ]
  },
  {
   "cell_type": "code",
   "execution_count": 12,
   "metadata": {},
   "outputs": [
    {
     "data": {
      "text/plain": [
       "19944"
      ]
     },
     "execution_count": 12,
     "metadata": {},
     "output_type": "execute_result"
    }
   ],
   "source": [
    "data_test = data[data.id_str.isin(test_ids)]\n",
    "len(data_test)"
   ]
  },
  {
   "cell_type": "code",
   "execution_count": 13,
   "metadata": {},
   "outputs": [
    {
     "data": {
      "text/plain": [
       "159544"
      ]
     },
     "execution_count": 13,
     "metadata": {},
     "output_type": "execute_result"
    }
   ],
   "source": [
    "train_vecs = vecs[data_train.index.values]\n",
    "len(train_vecs)"
   ]
  },
  {
   "cell_type": "code",
   "execution_count": 14,
   "metadata": {},
   "outputs": [
    {
     "data": {
      "text/plain": [
       "19943"
      ]
     },
     "execution_count": 14,
     "metadata": {},
     "output_type": "execute_result"
    }
   ],
   "source": [
    "val_vecs = vecs[data_val.index.values]\n",
    "len(val_vecs)"
   ]
  },
  {
   "cell_type": "code",
   "execution_count": 15,
   "metadata": {},
   "outputs": [
    {
     "data": {
      "text/plain": [
       "19944"
      ]
     },
     "execution_count": 15,
     "metadata": {},
     "output_type": "execute_result"
    }
   ],
   "source": [
    "test_vecs = vecs[data_test.index.values]\n",
    "len(test_vecs)"
   ]
  },
  {
   "cell_type": "markdown",
   "metadata": {},
   "source": [
    "# Labels"
   ]
  },
  {
   "cell_type": "code",
   "execution_count": 16,
   "metadata": {},
   "outputs": [],
   "source": [
    "def retweet_categories(retweet_count):\n",
    "    if retweet_count == 1:\n",
    "        return 0\n",
    "    elif retweet_count >= 2:\n",
    "        return 1    \n",
    "    else:\n",
    "        raise ValueError\n",
    "\n",
    "data[\"retweet_label\"] = data.retweet_count.map(retweet_categories)"
   ]
  },
  {
   "cell_type": "code",
   "execution_count": 17,
   "metadata": {},
   "outputs": [
    {
     "data": {
      "text/plain": [
       "159544"
      ]
     },
     "execution_count": 17,
     "metadata": {},
     "output_type": "execute_result"
    }
   ],
   "source": [
    "train_labels = data[\"retweet_label\"][data_train.index.values].values\n",
    "len(train_labels)"
   ]
  },
  {
   "cell_type": "code",
   "execution_count": 18,
   "metadata": {},
   "outputs": [
    {
     "data": {
      "text/plain": [
       "19943"
      ]
     },
     "execution_count": 18,
     "metadata": {},
     "output_type": "execute_result"
    }
   ],
   "source": [
    "val_labels = data[\"retweet_label\"][data_val.index.values].values\n",
    "len(val_labels)"
   ]
  },
  {
   "cell_type": "code",
   "execution_count": 19,
   "metadata": {},
   "outputs": [
    {
     "data": {
      "text/plain": [
       "19944"
      ]
     },
     "execution_count": 19,
     "metadata": {},
     "output_type": "execute_result"
    }
   ],
   "source": [
    "test_labels = data[\"retweet_label\"][data_test.index.values].values\n",
    "len(test_labels)"
   ]
  },
  {
   "cell_type": "code",
   "execution_count": 20,
   "metadata": {},
   "outputs": [
    {
     "data": {
      "text/plain": [
       "<AxesSubplot:ylabel='Percent'>"
      ]
     },
     "execution_count": 20,
     "metadata": {},
     "output_type": "execute_result"
    },
    {
     "data": {
      "image/png": "[encoded data removed]",
      "text/plain": [
       "<Figure size 432x288 with 1 Axes>"
      ]
     },
     "metadata": {
      "needs_background": "light"
     },
     "output_type": "display_data"
    }
   ],
   "source": [
    "sns.histplot(x=train_labels, hue=train_labels, stat=\"percent\", common_norm=True)"
   ]
  },
  {
   "cell_type": "code",
   "execution_count": 21,
   "metadata": {},
   "outputs": [
    {
     "data": {
      "text/plain": [
       "<AxesSubplot:ylabel='count'>"
      ]
     },
     "execution_count": 21,
     "metadata": {},
     "output_type": "execute_result"
    },
    {
     "data": {
      "image/png": "[encoded data removed]",
      "text/plain": [
       "<Figure size 432x288 with 1 Axes>"
      ]
     },
     "metadata": {
      "needs_background": "light"
     },
     "output_type": "display_data"
    }
   ],
   "source": [
    "countplot(x=train_labels)"
   ]
  },
  {
   "cell_type": "code",
   "execution_count": 22,
   "metadata": {},
   "outputs": [
    {
     "data": {
      "text/plain": [
       "<AxesSubplot:ylabel='Percent'>"
      ]
     },
     "execution_count": 22,
     "metadata": {},
     "output_type": "execute_result"
    },
    {
     "data": {
      "image/png": "[encoded data removed]",
      "text/plain": [
       "<Figure size 432x288 with 1 Axes>"
      ]
     },
     "metadata": {
      "needs_background": "light"
     },
     "output_type": "display_data"
    }
   ],
   "source": [
    "sns.histplot(x=val_labels, hue=val_labels, stat=\"percent\", common_norm=True)"
   ]
  },
  {
   "cell_type": "code",
   "execution_count": 23,
   "metadata": {},
   "outputs": [
    {
     "data": {
      "text/plain": [
       "<AxesSubplot:ylabel='count'>"
      ]
     },
     "execution_count": 23,
     "metadata": {},
     "output_type": "execute_result"
    },
    {
     "data": {
      "image/png": "[encoded data removed]",
      "text/plain": [
       "<Figure size 432x288 with 1 Axes>"
      ]
     },
     "metadata": {
      "needs_background": "light"
     },
     "output_type": "display_data"
    }
   ],
   "source": [
    "countplot(x=val_labels)"
   ]
  },
  {
   "cell_type": "code",
   "execution_count": 24,
   "metadata": {},
   "outputs": [
    {
     "data": {
      "text/plain": [
       "<AxesSubplot:ylabel='Percent'>"
      ]
     },
     "execution_count": 24,
     "metadata": {},
     "output_type": "execute_result"
    },
    {
     "data": {
      "image/png": "[encoded data removed]",
      "text/plain": [
       "<Figure size 432x288 with 1 Axes>"
      ]
     },
     "metadata": {
      "needs_background": "light"
     },
     "output_type": "display_data"
    }
   ],
   "source": [
    "sns.histplot(x=val_labels, hue=val_labels, stat=\"percent\", common_norm=True)"
   ]
  },
  {
   "cell_type": "code",
   "execution_count": 25,
   "metadata": {},
   "outputs": [
    {
     "data": {
      "text/plain": [
       "<AxesSubplot:ylabel='count'>"
      ]
     },
     "execution_count": 25,
     "metadata": {},
     "output_type": "execute_result"
    },
    {
     "data": {
      "image/png": "[encoded data removed]",
      "text/plain": [
       "<Figure size 432x288 with 1 Axes>"
      ]
     },
     "metadata": {
      "needs_background": "light"
     },
     "output_type": "display_data"
    }
   ],
   "source": [
    "countplot(x=test_labels)"
   ]
  },
  {
   "cell_type": "markdown",
   "metadata": {},
   "source": [
    "# Simple Training"
   ]
  },
  {
   "cell_type": "code",
   "execution_count": 26,
   "metadata": {},
   "outputs": [
    {
     "name": "stdout",
     "output_type": "stream",
     "text": [
      "Iteration 1, loss = 0.64494272\n",
      "Validation score: 0.633971\n",
      "Iteration 2, loss = 0.62452472\n",
      "Validation score: 0.649013\n",
      "Iteration 3, loss = 0.61421747\n",
      "Validation score: 0.647446\n",
      "Iteration 4, loss = 0.60416826\n",
      "Validation score: 0.649326\n",
      "Iteration 5, loss = 0.59462241\n",
      "Validation score: 0.645942\n",
      "Iteration 6, loss = 0.58303405\n",
      "Validation score: 0.644563\n",
      "Iteration 7, loss = 0.56954599\n",
      "Validation score: 0.639423\n",
      "Iteration 8, loss = 0.55473120\n",
      "Validation score: 0.637794\n",
      "Iteration 9, loss = 0.53623243\n",
      "Validation score: 0.641116\n",
      "Iteration 10, loss = 0.51874195\n",
      "Validation score: 0.634409\n",
      "Validation score did not improve more than tol=0.000100 for 5 consecutive epochs. Stopping.\n"
     ]
    },
    {
     "data": {
      "text/plain": [
       "MLPClassifier(batch_size=256, early_stopping=True, hidden_layer_sizes=(512,),\n",
       "              max_iter=50, n_iter_no_change=5, random_state=1, verbose=True)"
      ]
     },
     "execution_count": 26,
     "metadata": {},
     "output_type": "execute_result"
    }
   ],
   "source": [
    "clf = MLPClassifier(\n",
    "    max_iter=50,\n",
    "    hidden_layer_sizes=(512,),\n",
    "    random_state=1,\n",
    "    verbose=True,\n",
    "    early_stopping=True,\n",
    "    validation_fraction=0.1,\n",
    "    n_iter_no_change=5,\n",
    "    learning_rate_init=0.001,\n",
    "    batch_size=256)\n",
    "clf.fit(train_vecs, train_labels)"
   ]
  },
  {
   "cell_type": "code",
   "execution_count": 27,
   "metadata": {},
   "outputs": [
    {
     "data": {
      "text/plain": [
       "0.6493262300219367"
      ]
     },
     "execution_count": 27,
     "metadata": {},
     "output_type": "execute_result"
    }
   ],
   "source": [
    "clf.best_validation_score_"
   ]
  },
  {
   "cell_type": "code",
   "execution_count": 28,
   "metadata": {},
   "outputs": [
    {
     "data": {
      "text/plain": [
       "0.6782580354008926"
      ]
     },
     "execution_count": 28,
     "metadata": {},
     "output_type": "execute_result"
    }
   ],
   "source": [
    "clf.score(train_vecs, train_labels)"
   ]
  },
  {
   "cell_type": "code",
   "execution_count": 29,
   "metadata": {},
   "outputs": [
    {
     "data": {
      "text/plain": [
       "0.6285413428270571"
      ]
     },
     "execution_count": 29,
     "metadata": {},
     "output_type": "execute_result"
    }
   ],
   "source": [
    "clf.score(val_vecs, val_labels)"
   ]
  },
  {
   "cell_type": "code",
   "execution_count": 30,
   "metadata": {},
   "outputs": [
    {
     "data": {
      "text/plain": [
       "(19943,)"
      ]
     },
     "execution_count": 30,
     "metadata": {},
     "output_type": "execute_result"
    }
   ],
   "source": [
    "val_predictions = clf.predict(val_vecs)\n",
    "val_predictions.shape"
   ]
  },
  {
   "cell_type": "code",
   "execution_count": 31,
   "metadata": {},
   "outputs": [
    {
     "name": "stdout",
     "output_type": "stream",
     "text": [
      "              precision    recall  f1-score   support\n",
      "\n",
      "           0       0.63      0.76      0.69     10954\n",
      "           1       0.62      0.46      0.53      8989\n",
      "\n",
      "    accuracy                           0.63     19943\n",
      "   macro avg       0.63      0.61      0.61     19943\n",
      "weighted avg       0.63      0.63      0.62     19943\n",
      "\n"
     ]
    }
   ],
   "source": [
    "out = classification_report(val_labels, val_predictions, output_dict=False)\n",
    "print(out)"
   ]
  },
  {
   "cell_type": "markdown",
   "metadata": {},
   "source": [
    "# Standard scaling"
   ]
  },
  {
   "cell_type": "code",
   "execution_count": 32,
   "metadata": {},
   "outputs": [],
   "source": [
    "scaler = StandardScaler()"
   ]
  },
  {
   "cell_type": "code",
   "execution_count": 33,
   "metadata": {},
   "outputs": [],
   "source": [
    "transformed_train_vecs = scaler.fit_transform(train_vecs)"
   ]
  },
  {
   "cell_type": "code",
   "execution_count": 34,
   "metadata": {},
   "outputs": [
    {
     "data": {
      "text/plain": [
       "array([[-0.52097446,  0.26039687, -0.13421221, ..., -0.3979556 ,\n",
       "        -0.26935866,  0.73173654],\n",
       "       [-1.3568909 , -0.77428246,  0.7225072 , ...,  0.18733001,\n",
       "         0.37719136, -0.05505728],\n",
       "       [ 0.90672433, -0.5945493 ,  0.7991532 , ..., -0.31990397,\n",
       "        -1.6794659 , -0.029885  ],\n",
       "       ...,\n",
       "       [-0.304982  ,  1.7458442 ,  0.18001959, ..., -0.9995774 ,\n",
       "         0.16209403, -1.7622637 ],\n",
       "       [-0.7668669 ,  0.83773434,  0.64359844, ..., -1.733119  ,\n",
       "        -0.4888601 , -0.815279  ],\n",
       "       [-0.6996573 ,  2.1698804 , -0.63603324, ..., -1.4876254 ,\n",
       "        -1.5016176 , -2.1676676 ]], dtype=float32)"
      ]
     },
     "execution_count": 34,
     "metadata": {},
     "output_type": "execute_result"
    }
   ],
   "source": [
    "transformed_train_vecs"
   ]
  },
  {
   "cell_type": "code",
   "execution_count": 35,
   "metadata": {},
   "outputs": [],
   "source": [
    "transformed_val_vecs = scaler.transform(val_vecs)"
   ]
  },
  {
   "cell_type": "code",
   "execution_count": 36,
   "metadata": {},
   "outputs": [
    {
     "name": "stdout",
     "output_type": "stream",
     "text": [
      "Iteration 1, loss = 0.65351763\n",
      "Validation score: 0.631902\n",
      "Iteration 2, loss = 0.62870588\n",
      "Validation score: 0.638107\n",
      "Iteration 3, loss = 0.62192189\n",
      "Validation score: 0.638170\n",
      "Iteration 4, loss = 0.61563764\n",
      "Validation score: 0.635349\n",
      "Iteration 5, loss = 0.61025550\n",
      "Validation score: 0.636540\n",
      "Iteration 6, loss = 0.60546946\n",
      "Validation score: 0.634723\n",
      "Iteration 7, loss = 0.60084179\n",
      "Validation score: 0.637355\n",
      "Iteration 8, loss = 0.59735627\n",
      "Validation score: 0.635851\n",
      "Validation score did not improve more than tol=0.000100 for 5 consecutive epochs. Stopping.\n"
     ]
    },
    {
     "data": {
      "text/plain": [
       "MLPClassifier(batch_size=32, early_stopping=True, hidden_layer_sizes=(32,),\n",
       "              max_iter=50, n_iter_no_change=5, random_state=1, verbose=True)"
      ]
     },
     "execution_count": 36,
     "metadata": {},
     "output_type": "execute_result"
    }
   ],
   "source": [
    "scaled_clf = MLPClassifier(\n",
    "    max_iter=50,\n",
    "    hidden_layer_sizes=(32,),\n",
    "    random_state=1,\n",
    "    verbose=True,\n",
    "    early_stopping=True,\n",
    "    validation_fraction=0.1,\n",
    "    n_iter_no_change=5,\n",
    "    learning_rate_init=0.001,\n",
    "    batch_size=32)\n",
    "scaled_clf.fit(transformed_train_vecs, train_labels)"
   ]
  },
  {
   "cell_type": "code",
   "execution_count": 37,
   "metadata": {},
   "outputs": [
    {
     "data": {
      "text/plain": [
       "0.638169852710749"
      ]
     },
     "execution_count": 37,
     "metadata": {},
     "output_type": "execute_result"
    }
   ],
   "source": [
    "scaled_clf.best_validation_score_"
   ]
  },
  {
   "cell_type": "code",
   "execution_count": 38,
   "metadata": {},
   "outputs": [
    {
     "data": {
      "text/plain": [
       "0.6594607130321416"
      ]
     },
     "execution_count": 38,
     "metadata": {},
     "output_type": "execute_result"
    }
   ],
   "source": [
    "scaled_clf.score(transformed_train_vecs, train_labels)"
   ]
  },
  {
   "cell_type": "code",
   "execution_count": 39,
   "metadata": {},
   "outputs": [
    {
     "data": {
      "text/plain": [
       "0.6342074913503485"
      ]
     },
     "execution_count": 39,
     "metadata": {},
     "output_type": "execute_result"
    }
   ],
   "source": [
    "scaled_clf.score(transformed_val_vecs, val_labels)"
   ]
  },
  {
   "cell_type": "code",
   "execution_count": 40,
   "metadata": {},
   "outputs": [],
   "source": [
    "scaled_val_predictions = scaled_clf.predict(transformed_val_vecs)"
   ]
  },
  {
   "cell_type": "code",
   "execution_count": 41,
   "metadata": {},
   "outputs": [
    {
     "name": "stdout",
     "output_type": "stream",
     "text": [
      "              precision    recall  f1-score   support\n",
      "\n",
      "           0       0.64      0.75      0.69     10954\n",
      "           1       0.62      0.49      0.55      8989\n",
      "\n",
      "    accuracy                           0.63     19943\n",
      "   macro avg       0.63      0.62      0.62     19943\n",
      "weighted avg       0.63      0.63      0.63     19943\n",
      "\n"
     ]
    }
   ],
   "source": [
    "out = classification_report(val_labels, scaled_val_predictions, output_dict=False)\n",
    "print(out)"
   ]
  },
  {
   "cell_type": "code",
   "execution_count": 42,
   "metadata": {},
   "outputs": [
    {
     "name": "stdout",
     "output_type": "stream",
     "text": [
      "Iteration 1, loss = 0.64520964\n",
      "Validation score: 0.617863\n",
      "Iteration 2, loss = 0.63292562\n",
      "Validation score: 0.634848\n",
      "Iteration 3, loss = 0.62507595\n",
      "Validation score: 0.634221\n",
      "Iteration 4, loss = 0.61675415\n",
      "Validation score: 0.638859\n",
      "Iteration 5, loss = 0.60883023\n",
      "Validation score: 0.642432\n",
      "Iteration 6, loss = 0.59782555\n",
      "Validation score: 0.641304\n",
      "Iteration 7, loss = 0.58625879\n",
      "Validation score: 0.640740\n",
      "Iteration 8, loss = 0.57201976\n",
      "Validation score: 0.637355\n",
      "Iteration 9, loss = 0.55656327\n",
      "Validation score: 0.636916\n",
      "Iteration 10, loss = 0.54010992\n",
      "Validation score: 0.634660\n",
      "Iteration 11, loss = 0.52297648\n",
      "Validation score: 0.633971\n",
      "Validation score did not improve more than tol=0.000100 for 5 consecutive epochs. Stopping.\n"
     ]
    },
    {
     "data": {
      "text/plain": [
       "MLPClassifier(batch_size=32, early_stopping=True,\n",
       "              hidden_layer_sizes=(1000, 50, 30), max_iter=50,\n",
       "              n_iter_no_change=5, random_state=1, verbose=True)"
      ]
     },
     "execution_count": 42,
     "metadata": {},
     "output_type": "execute_result"
    }
   ],
   "source": [
    "scaled_clf_2 = MLPClassifier(\n",
    "    max_iter=50,\n",
    "    hidden_layer_sizes=(1000,50,30),\n",
    "    random_state=1,\n",
    "    verbose=True,\n",
    "    early_stopping=True,\n",
    "    validation_fraction=0.1,\n",
    "    n_iter_no_change=5,\n",
    "    learning_rate_init=0.001,\n",
    "    batch_size=32)\n",
    "scaled_clf_2.fit(transformed_train_vecs, train_labels)"
   ]
  },
  {
   "cell_type": "code",
   "execution_count": 43,
   "metadata": {},
   "outputs": [
    {
     "data": {
      "text/plain": [
       "0.6424318395487308"
      ]
     },
     "execution_count": 43,
     "metadata": {},
     "output_type": "execute_result"
    }
   ],
   "source": [
    "scaled_clf_2.best_validation_score_"
   ]
  },
  {
   "cell_type": "code",
   "execution_count": 44,
   "metadata": {},
   "outputs": [
    {
     "data": {
      "text/plain": [
       "0.6878415985558842"
      ]
     },
     "execution_count": 44,
     "metadata": {},
     "output_type": "execute_result"
    }
   ],
   "source": [
    "scaled_clf_2.score(transformed_train_vecs, train_labels)"
   ]
  },
  {
   "cell_type": "code",
   "execution_count": 45,
   "metadata": {},
   "outputs": [],
   "source": [
    "scaled_2_val_predictions = scaled_clf_2.predict(transformed_val_vecs)"
   ]
  },
  {
   "cell_type": "code",
   "execution_count": 46,
   "metadata": {},
   "outputs": [
    {
     "name": "stdout",
     "output_type": "stream",
     "text": [
      "              precision    recall  f1-score   support\n",
      "\n",
      "           0       0.62      0.83      0.71     10954\n",
      "           1       0.65      0.38      0.48      8989\n",
      "\n",
      "    accuracy                           0.63     19943\n",
      "   macro avg       0.63      0.61      0.60     19943\n",
      "weighted avg       0.63      0.63      0.61     19943\n",
      "\n"
     ]
    }
   ],
   "source": [
    "out = classification_report(val_labels, scaled_2_val_predictions, output_dict=False)\n",
    "print(out)"
   ]
  },
  {
   "cell_type": "markdown",
   "metadata": {},
   "source": [
    "# Robust scaler"
   ]
  },
  {
   "cell_type": "code",
   "execution_count": 47,
   "metadata": {},
   "outputs": [],
   "source": [
    "robust = RobustScaler()\n",
    "robust_train_vecs = robust.fit_transform(train_vecs)\n",
    "robust_val_vecs = robust.transform(val_vecs)"
   ]
  },
  {
   "cell_type": "code",
   "execution_count": 48,
   "metadata": {},
   "outputs": [
    {
     "name": "stdout",
     "output_type": "stream",
     "text": [
      "Iteration 1, loss = 0.64845037\n",
      "Validation score: 0.632905\n",
      "Iteration 2, loss = 0.62720299\n",
      "Validation score: 0.638985\n",
      "Iteration 3, loss = 0.62009502\n",
      "Validation score: 0.637418\n",
      "Iteration 4, loss = 0.61378745\n",
      "Validation score: 0.638107\n",
      "Iteration 5, loss = 0.60828161\n",
      "Validation score: 0.638170\n",
      "Iteration 6, loss = 0.60312235\n",
      "Validation score: 0.638295\n",
      "Iteration 7, loss = 0.59846253\n",
      "Validation score: 0.638358\n",
      "Iteration 8, loss = 0.59484401\n",
      "Validation score: 0.639862\n",
      "Iteration 9, loss = 0.59183397\n",
      "Validation score: 0.639611\n",
      "Iteration 10, loss = 0.58809024\n",
      "Validation score: 0.640740\n",
      "Iteration 11, loss = 0.58467693\n",
      "Validation score: 0.637104\n",
      "Iteration 12, loss = 0.58135559\n",
      "Validation score: 0.634409\n",
      "Iteration 13, loss = 0.57824667\n",
      "Validation score: 0.633093\n",
      "Iteration 14, loss = 0.57522510\n",
      "Validation score: 0.639925\n",
      "Iteration 15, loss = 0.57295013\n",
      "Validation score: 0.638483\n",
      "Iteration 16, loss = 0.56985087\n",
      "Validation score: 0.635412\n",
      "Validation score did not improve more than tol=0.000100 for 5 consecutive epochs. Stopping.\n"
     ]
    },
    {
     "data": {
      "text/plain": [
       "MLPClassifier(batch_size=32, early_stopping=True, hidden_layer_sizes=(32,),\n",
       "              max_iter=50, n_iter_no_change=5, random_state=1, verbose=True)"
      ]
     },
     "execution_count": 48,
     "metadata": {},
     "output_type": "execute_result"
    }
   ],
   "source": [
    "robust_clf_1 = MLPClassifier(\n",
    "    max_iter=50,\n",
    "    hidden_layer_sizes=(32,),\n",
    "    random_state=1,\n",
    "    verbose=True,\n",
    "    early_stopping=True,\n",
    "    validation_fraction=0.1,\n",
    "    n_iter_no_change=5,\n",
    "    learning_rate_init=0.001,\n",
    "    batch_size=32)\n",
    "robust_clf_1.fit(robust_train_vecs, train_labels)"
   ]
  },
  {
   "cell_type": "code",
   "execution_count": 49,
   "metadata": {},
   "outputs": [
    {
     "data": {
      "text/plain": [
       "0.6895652609938324"
      ]
     },
     "execution_count": 49,
     "metadata": {},
     "output_type": "execute_result"
    }
   ],
   "source": [
    "robust_clf_1.score(robust_train_vecs, train_labels)"
   ]
  },
  {
   "cell_type": "code",
   "execution_count": 50,
   "metadata": {},
   "outputs": [
    {
     "data": {
      "text/plain": [
       "0.6233766233766234"
      ]
     },
     "execution_count": 50,
     "metadata": {},
     "output_type": "execute_result"
    }
   ],
   "source": [
    "robust_clf_1.score(robust_val_vecs, val_labels)"
   ]
  },
  {
   "cell_type": "code",
   "execution_count": 51,
   "metadata": {},
   "outputs": [],
   "source": [
    "robust_clf_1_val_predictions = robust_clf_1.predict(robust_val_vecs)"
   ]
  },
  {
   "cell_type": "code",
   "execution_count": 52,
   "metadata": {},
   "outputs": [
    {
     "name": "stdout",
     "output_type": "stream",
     "text": [
      "              precision    recall  f1-score   support\n",
      "\n",
      "           0       0.63      0.78      0.69     10954\n",
      "           1       0.62      0.43      0.51      8989\n",
      "\n",
      "    accuracy                           0.62     19943\n",
      "   macro avg       0.62      0.61      0.60     19943\n",
      "weighted avg       0.62      0.62      0.61     19943\n",
      "\n"
     ]
    }
   ],
   "source": [
    "out = classification_report(val_labels, robust_clf_1_val_predictions, output_dict=False)\n",
    "print(out)"
   ]
  },
  {
   "cell_type": "markdown",
   "metadata": {},
   "source": [
    "# Random Forest"
   ]
  },
  {
   "cell_type": "code",
   "execution_count": 53,
   "metadata": {},
   "outputs": [],
   "source": [
    "rf = RandomForestClassifier(\n",
    "    n_estimators=200,\n",
    "    max_depth=15,\n",
    "    min_samples_split=0.0001,\n",
    "    min_samples_leaf=0.0001,\n",
    "    random_state=1,\n",
    "    verbose=True,\n",
    "    n_jobs=-1,\n",
    "    max_samples=0.4,\n",
    "    max_features=100,\n",
    "    oob_score=True,\n",
    "    class_weight=\"balanced\"    \n",
    ")"
   ]
  },
  {
   "cell_type": "code",
   "execution_count": 54,
   "metadata": {},
   "outputs": [
    {
     "name": "stderr",
     "output_type": "stream",
     "text": [
      "[Parallel(n_jobs=-1)]: Using backend ThreadingBackend with 24 concurrent workers.\n",
      "[Parallel(n_jobs=-1)]: Done   2 tasks      | elapsed:    8.2s\n",
      "[Parallel(n_jobs=-1)]: Done 152 tasks      | elapsed:   58.2s\n",
      "[Parallel(n_jobs=-1)]: Done 200 out of 200 | elapsed:  1.2min finished\n"
     ]
    },
    {
     "data": {
      "text/plain": [
       "RandomForestClassifier(class_weight='balanced', max_depth=15, max_features=100,\n",
       "                       max_samples=0.4, min_samples_leaf=0.0001,\n",
       "                       min_samples_split=0.0001, n_estimators=200, n_jobs=-1,\n",
       "                       oob_score=True, random_state=1, verbose=True)"
      ]
     },
     "execution_count": 54,
     "metadata": {},
     "output_type": "execute_result"
    }
   ],
   "source": [
    "rf.fit(transformed_train_vecs, train_labels)"
   ]
  },
  {
   "cell_type": "code",
   "execution_count": 55,
   "metadata": {},
   "outputs": [
    {
     "name": "stderr",
     "output_type": "stream",
     "text": [
      "[Parallel(n_jobs=24)]: Using backend ThreadingBackend with 24 concurrent workers.\n",
      "[Parallel(n_jobs=24)]: Done   2 tasks      | elapsed:    0.0s\n",
      "[Parallel(n_jobs=24)]: Done 152 tasks      | elapsed:    0.1s\n",
      "[Parallel(n_jobs=24)]: Done 200 out of 200 | elapsed:    0.1s finished\n"
     ]
    },
    {
     "data": {
      "text/plain": [
       "0.6317003459860603"
      ]
     },
     "execution_count": 55,
     "metadata": {},
     "output_type": "execute_result"
    }
   ],
   "source": [
    "rf.score(transformed_val_vecs, val_labels)"
   ]
  },
  {
   "cell_type": "code",
   "execution_count": 56,
   "metadata": {},
   "outputs": [
    {
     "name": "stderr",
     "output_type": "stream",
     "text": [
      "[Parallel(n_jobs=24)]: Using backend ThreadingBackend with 24 concurrent workers.\n",
      "[Parallel(n_jobs=24)]: Done   2 tasks      | elapsed:    0.1s\n",
      "[Parallel(n_jobs=24)]: Done 152 tasks      | elapsed:    0.6s\n",
      "[Parallel(n_jobs=24)]: Done 200 out of 200 | elapsed:    0.7s finished\n"
     ]
    },
    {
     "data": {
      "text/plain": [
       "0.8097390061675775"
      ]
     },
     "execution_count": 56,
     "metadata": {},
     "output_type": "execute_result"
    }
   ],
   "source": [
    "rf.score(transformed_train_vecs, train_labels)"
   ]
  },
  {
   "cell_type": "code",
   "execution_count": 57,
   "metadata": {},
   "outputs": [
    {
     "name": "stderr",
     "output_type": "stream",
     "text": [
      "[Parallel(n_jobs=24)]: Using backend ThreadingBackend with 24 concurrent workers.\n",
      "[Parallel(n_jobs=24)]: Done   2 tasks      | elapsed:    0.0s\n",
      "[Parallel(n_jobs=24)]: Done 152 tasks      | elapsed:    0.1s\n",
      "[Parallel(n_jobs=24)]: Done 200 out of 200 | elapsed:    0.1s finished\n"
     ]
    }
   ],
   "source": [
    "rf_val_predictions = rf.predict(transformed_val_vecs)"
   ]
  },
  {
   "cell_type": "code",
   "execution_count": 58,
   "metadata": {},
   "outputs": [
    {
     "name": "stdout",
     "output_type": "stream",
     "text": [
      "              precision    recall  f1-score   support\n",
      "\n",
      "           0       0.66      0.68      0.67     10954\n",
      "           1       0.59      0.58      0.59      8989\n",
      "\n",
      "    accuracy                           0.63     19943\n",
      "   macro avg       0.63      0.63      0.63     19943\n",
      "weighted avg       0.63      0.63      0.63     19943\n",
      "\n"
     ]
    }
   ],
   "source": [
    "out = classification_report(val_labels, rf_val_predictions, output_dict=False)\n",
    "print(out)"
   ]
  },
  {
   "cell_type": "code",
   "execution_count": 59,
   "metadata": {},
   "outputs": [
    {
     "name": "stderr",
     "output_type": "stream",
     "text": [
      "[Parallel(n_jobs=-1)]: Using backend ThreadingBackend with 24 concurrent workers.\n",
      "[Parallel(n_jobs=-1)]: Done   2 tasks      | elapsed:    8.1s\n",
      "[Parallel(n_jobs=-1)]: Done 152 tasks      | elapsed:   58.2s\n",
      "[Parallel(n_jobs=-1)]: Done 200 out of 200 | elapsed:  1.2min finished\n"
     ]
    },
    {
     "name": "stdout",
     "output_type": "stream",
     "text": [
      "              precision    recall  f1-score   support\n",
      "\n",
      "           0       0.66      0.68      0.67     10954\n",
      "           1       0.59      0.58      0.59      8989\n",
      "\n",
      "    accuracy                           0.63     19943\n",
      "   macro avg       0.63      0.63      0.63     19943\n",
      "weighted avg       0.63      0.63      0.63     19943\n",
      "\n"
     ]
    }
   ],
   "source": [
    "# no scaling (won't influence)\n",
    "rf = RandomForestClassifier(\n",
    "    n_estimators=200,\n",
    "    max_depth=15,\n",
    "    min_samples_split=0.0001,\n",
    "    min_samples_leaf=0.0001,\n",
    "    random_state=1,\n",
    "    verbose=True,\n",
    "    n_jobs=-1,\n",
    "    max_samples=0.4,\n",
    "    max_features=100,\n",
    "    oob_score=True,\n",
    "    class_weight=\"balanced\"    \n",
    ")\n",
    "rf.fit(train_vecs, train_labels)\n",
    "out = classification_report(val_labels, rf_val_predictions, output_dict=False)\n",
    "print(out)"
   ]
  },
  {
   "cell_type": "code",
   "execution_count": 60,
   "metadata": {},
   "outputs": [
    {
     "name": "stderr",
     "output_type": "stream",
     "text": [
      "[Parallel(n_jobs=24)]: Using backend ThreadingBackend with 24 concurrent workers.\n",
      "[Parallel(n_jobs=24)]: Done   2 tasks      | elapsed:    0.0s\n",
      "[Parallel(n_jobs=24)]: Done 152 tasks      | elapsed:    0.1s\n",
      "[Parallel(n_jobs=24)]: Done 200 out of 200 | elapsed:    0.1s finished\n"
     ]
    },
    {
     "data": {
      "text/plain": [
       "0.6305972020257734"
      ]
     },
     "execution_count": 60,
     "metadata": {},
     "output_type": "execute_result"
    }
   ],
   "source": [
    "rf.score(val_vecs, val_labels)"
   ]
  },
  {
   "cell_type": "code",
   "execution_count": 61,
   "metadata": {},
   "outputs": [
    {
     "name": "stderr",
     "output_type": "stream",
     "text": [
      "[Parallel(n_jobs=24)]: Using backend ThreadingBackend with 24 concurrent workers.\n",
      "[Parallel(n_jobs=24)]: Done   2 tasks      | elapsed:    0.0s\n",
      "[Parallel(n_jobs=24)]: Done 152 tasks      | elapsed:    0.1s\n",
      "[Parallel(n_jobs=24)]: Done 200 out of 200 | elapsed:    0.1s finished\n"
     ]
    }
   ],
   "source": [
    "rf_val_predictions = rf.predict(val_vecs)"
   ]
  },
  {
   "cell_type": "code",
   "execution_count": 62,
   "metadata": {},
   "outputs": [
    {
     "name": "stdout",
     "output_type": "stream",
     "text": [
      "              precision    recall  f1-score   support\n",
      "\n",
      "           0       0.66      0.67      0.67     10954\n",
      "           1       0.59      0.58      0.59      8989\n",
      "\n",
      "    accuracy                           0.63     19943\n",
      "   macro avg       0.63      0.63      0.63     19943\n",
      "weighted avg       0.63      0.63      0.63     19943\n",
      "\n"
     ]
    }
   ],
   "source": [
    "out = classification_report(val_labels, rf_val_predictions, output_dict=False)\n",
    "print(out)"
   ]
  },
  {
   "cell_type": "markdown",
   "metadata": {},
   "source": [
    "# Dummy classifier"
   ]
  },
  {
   "cell_type": "code",
   "execution_count": 63,
   "metadata": {},
   "outputs": [],
   "source": [
    "s_dummy = DummyClassifier(strategy=\"stratified\", random_state=1)"
   ]
  },
  {
   "cell_type": "code",
   "execution_count": 64,
   "metadata": {},
   "outputs": [
    {
     "data": {
      "text/plain": [
       "DummyClassifier(random_state=1, strategy='stratified')"
      ]
     },
     "execution_count": 64,
     "metadata": {},
     "output_type": "execute_result"
    }
   ],
   "source": [
    "s_dummy.fit(train_vecs, train_labels)"
   ]
  },
  {
   "cell_type": "code",
   "execution_count": 65,
   "metadata": {},
   "outputs": [],
   "source": [
    "dummy_val_predictions = s_dummy.predict(val_vecs)"
   ]
  },
  {
   "cell_type": "code",
   "execution_count": 66,
   "metadata": {},
   "outputs": [
    {
     "name": "stdout",
     "output_type": "stream",
     "text": [
      "              precision    recall  f1-score   support\n",
      "\n",
      "           0       0.55      0.58      0.56     10954\n",
      "           1       0.45      0.41      0.43      8989\n",
      "\n",
      "    accuracy                           0.51     19943\n",
      "   macro avg       0.50      0.50      0.50     19943\n",
      "weighted avg       0.50      0.51      0.50     19943\n",
      "\n"
     ]
    }
   ],
   "source": [
    "out = classification_report(val_labels, dummy_val_predictions, output_dict=False)\n",
    "print(out)"
   ]
  }
 ],
 "metadata": {
  "interpreter": {
   "hash": "15267cfa9f25b6ca31c547cf72167e122f3ae1ce2ab22c3e1aaf6fd39ae5e059"
  },
  "kernelspec": {
   "display_name": "Python 3.9.9 64-bit ('infocov_retweet': venv)",
   "name": "python3"
  },
  "language_info": {
   "name": "python",
   "version": ""
  },
  "orig_nbformat": 4
 },
 "nbformat": 4,
 "nbformat_minor": 2
}